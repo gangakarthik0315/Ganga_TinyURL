{
 "cells": [
  {
   "cell_type": "code",
   "execution_count": 29,
   "id": "46469183",
   "metadata": {},
   "outputs": [],
   "source": [
    "import string, random\n",
    "class EncodeDecodeTinyURL:\n",
    "    def __init__(self):\n",
    "        self.encodeMap = {}\n",
    "        self.decodeMap = {}\n",
    "    \n",
    "    def generate_random_letters(self) -> str:\n",
    "        letters = \"\"\n",
    "        for i in range(33, 127):\n",
    "            letters += chr(i)\n",
    "        random_letters = random.choices(letters, k=5)\n",
    "        random_letters = \"\".join(random_letters)\n",
    "        random_letters\n",
    "        return random_letters\n",
    "        \n",
    "    def encodeURL(self, longURL: str) -> str:\n",
    "        if longURL not in self.encodeMap:\n",
    "            short_url = self.generate_random_letters()\n",
    "            while short_url in self.encodeMap.values():\n",
    "                short_url = self.generate_random_letters()\n",
    "            shortURL = \"http://tinyURL.com/\" + short_url\n",
    "            self.encodeMap[longURL] = shortURL\n",
    "            self.decodeMap[shortURL] = longURL\n",
    "        return self.encodeMap[longURL]\n",
    "    \n",
    "    def decodeURL(self, shortURL: str) -> str:\n",
    "        return self.decodeMap[shortURL]\n"
   ]
  },
  {
   "cell_type": "code",
   "execution_count": 32,
   "id": "ed60fa1d",
   "metadata": {},
   "outputs": [
    {
     "data": {
      "text/plain": [
       "'http://tinyURL.com/,Th&X'"
      ]
     },
     "execution_count": 32,
     "metadata": {},
     "output_type": "execute_result"
    }
   ],
   "source": [
    "a = EncodeDecodeTinyURL()\n",
    "a.encodeURL(\"https://www.educative.io/courses/grokking-the-system-design-interview/m2G48X18NDO\")"
   ]
  },
  {
   "cell_type": "code",
   "execution_count": 33,
   "id": "c3c062ce",
   "metadata": {
    "scrolled": true
   },
   "outputs": [
    {
     "data": {
      "text/plain": [
       "'https://www.educative.io/courses/grokking-the-system-design-interview/m2G48X18NDO'"
      ]
     },
     "execution_count": 33,
     "metadata": {},
     "output_type": "execute_result"
    }
   ],
   "source": [
    "a.decodeURL('http://tinyURL.com/,Th&X')"
   ]
  }
 ],
 "metadata": {
  "kernelspec": {
   "display_name": "Python 3 (ipykernel)",
   "language": "python",
   "name": "python3"
  },
  "language_info": {
   "codemirror_mode": {
    "name": "ipython",
    "version": 3
   },
   "file_extension": ".py",
   "mimetype": "text/x-python",
   "name": "python",
   "nbconvert_exporter": "python",
   "pygments_lexer": "ipython3",
   "version": "3.9.7"
  }
 },
 "nbformat": 4,
 "nbformat_minor": 5
}
